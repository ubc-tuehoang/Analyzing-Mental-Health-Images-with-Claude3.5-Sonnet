{
 "cells": [
  {
   "cell_type": "code",
   "execution_count": 1,
   "id": "37fdc008-5957-48b7-b598-0339e747217b",
   "metadata": {},
   "outputs": [
    {
     "name": "stdout",
     "output_type": "stream",
     "text": [
      "Requirement already satisfied: anthropic in /usr/local/python/3.10.13/lib/python3.10/site-packages (0.29.0)\n",
      "Requirement already satisfied: anyio<5,>=3.5.0 in /home/codespace/.local/lib/python3.10/site-packages (from anthropic) (4.4.0)\n",
      "Requirement already satisfied: distro<2,>=1.7.0 in /usr/local/python/3.10.13/lib/python3.10/site-packages (from anthropic) (1.9.0)\n",
      "Requirement already satisfied: httpx<1,>=0.23.0 in /home/codespace/.local/lib/python3.10/site-packages (from anthropic) (0.27.0)\n",
      "Requirement already satisfied: jiter<1,>=0.4.0 in /usr/local/python/3.10.13/lib/python3.10/site-packages (from anthropic) (0.4.2)\n",
      "Requirement already satisfied: pydantic<3,>=1.9.0 in /usr/local/python/3.10.13/lib/python3.10/site-packages (from anthropic) (2.7.4)\n",
      "Requirement already satisfied: sniffio in /home/codespace/.local/lib/python3.10/site-packages (from anthropic) (1.3.1)\n",
      "Requirement already satisfied: tokenizers>=0.13.0 in /usr/local/python/3.10.13/lib/python3.10/site-packages (from anthropic) (0.19.1)\n",
      "Requirement already satisfied: typing-extensions<5,>=4.7 in /home/codespace/.local/lib/python3.10/site-packages (from anthropic) (4.12.0)\n",
      "Requirement already satisfied: idna>=2.8 in /home/codespace/.local/lib/python3.10/site-packages (from anyio<5,>=3.5.0->anthropic) (3.7)\n",
      "Requirement already satisfied: exceptiongroup>=1.0.2 in /home/codespace/.local/lib/python3.10/site-packages (from anyio<5,>=3.5.0->anthropic) (1.2.1)\n",
      "Requirement already satisfied: certifi in /home/codespace/.local/lib/python3.10/site-packages (from httpx<1,>=0.23.0->anthropic) (2024.2.2)\n",
      "Requirement already satisfied: httpcore==1.* in /home/codespace/.local/lib/python3.10/site-packages (from httpx<1,>=0.23.0->anthropic) (1.0.5)\n",
      "Requirement already satisfied: h11<0.15,>=0.13 in /home/codespace/.local/lib/python3.10/site-packages (from httpcore==1.*->httpx<1,>=0.23.0->anthropic) (0.14.0)\n",
      "Requirement already satisfied: annotated-types>=0.4.0 in /usr/local/python/3.10.13/lib/python3.10/site-packages (from pydantic<3,>=1.9.0->anthropic) (0.7.0)\n",
      "Requirement already satisfied: pydantic-core==2.18.4 in /usr/local/python/3.10.13/lib/python3.10/site-packages (from pydantic<3,>=1.9.0->anthropic) (2.18.4)\n",
      "Requirement already satisfied: huggingface-hub<1.0,>=0.16.4 in /usr/local/python/3.10.13/lib/python3.10/site-packages (from tokenizers>=0.13.0->anthropic) (0.23.4)\n",
      "Requirement already satisfied: filelock in /home/codespace/.local/lib/python3.10/site-packages (from huggingface-hub<1.0,>=0.16.4->tokenizers>=0.13.0->anthropic) (3.14.0)\n",
      "Requirement already satisfied: fsspec>=2023.5.0 in /home/codespace/.local/lib/python3.10/site-packages (from huggingface-hub<1.0,>=0.16.4->tokenizers>=0.13.0->anthropic) (2024.5.0)\n",
      "Requirement already satisfied: packaging>=20.9 in /home/codespace/.local/lib/python3.10/site-packages (from huggingface-hub<1.0,>=0.16.4->tokenizers>=0.13.0->anthropic) (24.0)\n",
      "Requirement already satisfied: pyyaml>=5.1 in /home/codespace/.local/lib/python3.10/site-packages (from huggingface-hub<1.0,>=0.16.4->tokenizers>=0.13.0->anthropic) (6.0.1)\n",
      "Requirement already satisfied: requests in /home/codespace/.local/lib/python3.10/site-packages (from huggingface-hub<1.0,>=0.16.4->tokenizers>=0.13.0->anthropic) (2.32.3)\n",
      "Requirement already satisfied: tqdm>=4.42.1 in /usr/local/python/3.10.13/lib/python3.10/site-packages (from huggingface-hub<1.0,>=0.16.4->tokenizers>=0.13.0->anthropic) (4.66.4)\n",
      "Requirement already satisfied: charset-normalizer<4,>=2 in /home/codespace/.local/lib/python3.10/site-packages (from requests->huggingface-hub<1.0,>=0.16.4->tokenizers>=0.13.0->anthropic) (3.3.2)\n",
      "Requirement already satisfied: urllib3<3,>=1.21.1 in /usr/local/python/3.10.13/lib/python3.10/site-packages (from requests->huggingface-hub<1.0,>=0.16.4->tokenizers>=0.13.0->anthropic) (2.0.7)\n",
      "\n",
      "\u001b[1m[\u001b[0m\u001b[34;49mnotice\u001b[0m\u001b[1;39;49m]\u001b[0m\u001b[39;49m A new release of pip is available: \u001b[0m\u001b[31;49m24.0\u001b[0m\u001b[39;49m -> \u001b[0m\u001b[32;49m24.1\u001b[0m\n",
      "\u001b[1m[\u001b[0m\u001b[34;49mnotice\u001b[0m\u001b[1;39;49m]\u001b[0m\u001b[39;49m To update, run: \u001b[0m\u001b[32;49mpython3 -m pip install --upgrade pip\u001b[0m\n"
     ]
    }
   ],
   "source": [
    "!pip install anthropic"
   ]
  },
  {
   "cell_type": "code",
   "execution_count": 5,
   "id": "b025029a-0a74-47cf-bba5-3a2b4aa7c5c9",
   "metadata": {},
   "outputs": [],
   "source": [
    "import base64\n",
    "import requests\n",
    "\n",
    "image_media_type = \"image/jpeg\"\n",
    "image_media_type = \"image/png\"\n",
    "\n",
    "# Function to encode the image\n",
    "def encode_image(image_path):\n",
    "  with open(image_path, \"rb\") as image_file:\n",
    "    return base64.b64encode(image_file.read()).decode('utf-8')\n",
    "\n",
    "def download_image_and_convert_to_base64(url):\n",
    "    try:\n",
    "      # Send a GET request to the URL to download the image\n",
    "      response = requests.get(url)\n",
    "      response.raise_for_status()  # Raise an exception for bad status codes\n",
    "\n",
    "      # Convert the image content to a base64 string\n",
    "      base64_image = base64.b64encode(response.content).decode('utf-8')\n",
    "\n",
    "      return base64_image\n",
    "    except Exception as e:\n",
    "      print(f\"An error occurred: {e}\")\n",
    "      return None\n",
    "\n",
    "#Use project image\n",
    "image_path = \"image-4-Picasso.png\"\n",
    "base64_image = encode_image(image_path)\n",
    "\n",
    "#Use URL image \n",
    "#base64_image = encode_image(image_path)\n",
    "#image_path_url = \"https://uploads0.wikiart.org/images/leonardo-da-vinci.jpg!Portrait.jpg\"\n",
    "#base64_image = download_image_and_convert_to_base64(image_path_url)\n"
   ]
  },
  {
   "cell_type": "code",
   "execution_count": 6,
   "id": "4bc60536-522a-4574-9851-a6106d1f55c9",
   "metadata": {},
   "outputs": [],
   "source": [
    "prompt_text = \"\""
   ]
  },
  {
   "cell_type": "code",
   "execution_count": 7,
   "id": "2a1367ca-c846-4ca6-8b71-eec0613d4ce1",
   "metadata": {},
   "outputs": [
    {
     "name": "stdout",
     "output_type": "stream",
     "text": [
      "This painting, which appears to be from Picasso's Blue Period, reveals a great deal about the artist's psychological state at the time. The somber colors, particularly the dominant blues, suggest a period of melancholy or depression. The figure in the painting is emaciated and hunched, holding a guitar, which could symbolize the artist's relationship with his craft during a difficult time.\n",
      "\n",
      "As the painting progresses, we can imagine the artist's psychological mindset evolving:\n",
      "\n",
      "1. Initial concept: The artist likely began with a sense of heaviness, reflecting on themes of loneliness and sorrow.\n",
      "\n",
      "2. Composition: As he structured the painting, there may have been moments of intense focus, arranging the figure and instrument to convey maximum emotional impact.\n",
      "\n",
      "3. Color application: The consistent use of blue tones suggests a sustained mood throughout the process, but variations in shade might indicate subtle shifts in the artist's emotional state.\n",
      "\n",
      "4. Detailing: The sharp angles and distorted proportions could reflect moments of frustration or heightened emotional intensity.\n",
      "\n",
      "5. Completion: Finishing the work might have brought a sense of catharsis or resolution, even if the overall mood remained somber.\n",
      "\n",
      "To empathize with this artist:\n",
      "\n",
      "1. Recognize the emotional depth expressed in the work. The painting is a window into the artist's inner world during a challenging time.\n",
      "\n",
      "2. Understand that creative expression can be a coping mechanism for dealing with difficult emotions.\n",
      "\n",
      "3. Appreciate the courage it takes to confront and portray such raw emotions in art.\n",
      "\n",
      "4. Consider how the act of creating, even in times of distress, can be a form of resilience and hope.\n",
      "\n",
      "5. Reflect on your own experiences of melancholy or introspection, and how they might relate to the emotions conveyed in the painting.\n",
      "\n",
      "By engaging with the work on these levels, we can develop a deeper understanding and empathy for the artist's psychological journey throughout the creation of this powerful and evocative painting.\n"
     ]
    }
   ],
   "source": [
    "\n",
    "import requests\n",
    "from anthropic import Anthropic\n",
    "\n",
    "\n",
    "client = Anthropic(\n",
    "    # This is the default and can be omitted\n",
    "    api_key=\"<CLAUDE API TOKEN>\",\n",
    ")\n",
    "\n",
    "message = client.messages.create(\n",
    "    max_tokens=1024,\n",
    "    messages=[\n",
    "        {\n",
    "            \"role\": \"user\",\n",
    "            \"content\": [\n",
    "                {\n",
    "                    \"type\": \"text\",\n",
    "                    \"text\": prompt_text\n",
    "                },\n",
    "                {\n",
    "                    \"type\": \"image\",\n",
    "                    \"source\": {\n",
    "                        \"type\": \"base64\",\n",
    "                        \"media_type\": image_media_type,\n",
    "                        \"data\": base64_image,\n",
    "                    },\n",
    "                }\n",
    "            ],\n",
    "        }\n",
    "    ],\n",
    "    model=\"claude-3-5-sonnet-20240620\",\n",
    ")\n",
    "\n",
    "print(message.content[0].text)\n"
   ]
  }
 ],
 "metadata": {
  "kernelspec": {
   "display_name": "Python 3 (ipykernel)",
   "language": "python",
   "name": "python3"
  },
  "language_info": {
   "codemirror_mode": {
    "name": "ipython",
    "version": 3
   },
   "file_extension": ".py",
   "mimetype": "text/x-python",
   "name": "python",
   "nbconvert_exporter": "python",
   "pygments_lexer": "ipython3",
   "version": "3.10.13"
  }
 },
 "nbformat": 4,
 "nbformat_minor": 5
}
